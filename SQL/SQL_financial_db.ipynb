{
 "cells": [
  {
   "cell_type": "code",
   "execution_count": 1,
   "metadata": {},
   "outputs": [],
   "source": [
    "import sqlite3\n",
    "import pandas as pd"
   ]
  },
  {
   "cell_type": "markdown",
   "metadata": {},
   "source": [
    "# Данные"
   ]
  },
  {
   "cell_type": "markdown",
   "metadata": {},
   "source": [
    "Представленный датасет включает многочисленные финансовые показатели, которые часто используются многими профессионалами и экономистами-аналитиками в области инвестиций для оценки компаний. Указанные компании входят в индекс S&P 500 (Standard & Poor's 500). S&P 500 - это взвешенный по капитализации индекс 500-сот крупнейших публичных компаний США.\n",
    "https://www.kaggle.com/paytonfisher/sp-500-companies-with-financial-information"
   ]
  },
  {
   "cell_type": "markdown",
   "metadata": {},
   "source": [
    "- 3 переменные символьного типа:\n",
    "        - Symbol: Символ тикера, используемый для однозначной идентификации каждой компании на определенном фондовом рынке.\n",
    "        - Name: Юридическое название компании\n",
    "        - Sector: Отрасль экономики, к которой относятся выпускаемые продукты и/или услуги компании.\n",
    "   \n",
    "- 8 переменных числового типа:\n",
    "        - Price: Цена акции\n",
    "        - Price to Earnings (PE): Отношение цены акции компании к ее прибыли на акцию.\n",
    "        - Dividend Yield: Отношение годовых дивидендов на акцию к цене акции.\n",
    "        - Earnings Per Share (EPS): отношение чистой прибыли компании, доступной для распределения, к среднегодовому числу обыкновенных акций\n",
    "        - 52 week high and low: Годовой максимум и минимум цены акции компании\n",
    "        - Market Cap: Рыночная стоимость акций компании (рассчитывается как цена акции x количество акций)\n",
    "        - EBITDA: Прибыль компании до вычета процентов, налогов, износа и амортизации; часто используется как показатель прибыльности"
   ]
  },
  {
   "cell_type": "code",
   "execution_count": 2,
   "metadata": {},
   "outputs": [],
   "source": [
    "data_companies = pd.read_csv('dataset_1.csv')\n",
    "data_financial_metrics = pd.read_csv('dataset_2.csv')"
   ]
  },
  {
   "cell_type": "code",
   "execution_count": 3,
   "metadata": {},
   "outputs": [
    {
     "data": {
      "text/html": [
       "<div>\n",
       "<style scoped>\n",
       "    .dataframe tbody tr th:only-of-type {\n",
       "        vertical-align: middle;\n",
       "    }\n",
       "\n",
       "    .dataframe tbody tr th {\n",
       "        vertical-align: top;\n",
       "    }\n",
       "\n",
       "    .dataframe thead th {\n",
       "        text-align: right;\n",
       "    }\n",
       "</style>\n",
       "<table border=\"1\" class=\"dataframe\">\n",
       "  <thead>\n",
       "    <tr style=\"text-align: right;\">\n",
       "      <th></th>\n",
       "      <th>id</th>\n",
       "      <th>Symbol</th>\n",
       "      <th>Name</th>\n",
       "      <th>Sector</th>\n",
       "      <th>Price</th>\n",
       "    </tr>\n",
       "  </thead>\n",
       "  <tbody>\n",
       "    <tr>\n",
       "      <th>0</th>\n",
       "      <td>1</td>\n",
       "      <td>ABT</td>\n",
       "      <td>Abbott Laboratories</td>\n",
       "      <td>Health Care</td>\n",
       "      <td>56.27</td>\n",
       "    </tr>\n",
       "    <tr>\n",
       "      <th>1</th>\n",
       "      <td>2</td>\n",
       "      <td>ALGN</td>\n",
       "      <td>Align Technology</td>\n",
       "      <td>Health Care</td>\n",
       "      <td>220.71</td>\n",
       "    </tr>\n",
       "    <tr>\n",
       "      <th>2</th>\n",
       "      <td>3</td>\n",
       "      <td>AMZN</td>\n",
       "      <td>Amazon.com Inc</td>\n",
       "      <td>Consumer Discretionary</td>\n",
       "      <td>1350.50</td>\n",
       "    </tr>\n",
       "    <tr>\n",
       "      <th>3</th>\n",
       "      <td>4</td>\n",
       "      <td>ILMN</td>\n",
       "      <td>Illumina Inc</td>\n",
       "      <td>Health Care</td>\n",
       "      <td>209.54</td>\n",
       "    </tr>\n",
       "    <tr>\n",
       "      <th>4</th>\n",
       "      <td>5</td>\n",
       "      <td>TMO</td>\n",
       "      <td>Thermo Fisher Scientific</td>\n",
       "      <td>Health Care</td>\n",
       "      <td>198.73</td>\n",
       "    </tr>\n",
       "  </tbody>\n",
       "</table>\n",
       "</div>"
      ],
      "text/plain": [
       "   id Symbol                      Name                  Sector    Price\n",
       "0   1    ABT       Abbott Laboratories             Health Care    56.27\n",
       "1   2   ALGN          Align Technology             Health Care   220.71\n",
       "2   3   AMZN            Amazon.com Inc  Consumer Discretionary  1350.50\n",
       "3   4   ILMN              Illumina Inc             Health Care   209.54\n",
       "4   5    TMO  Thermo Fisher Scientific             Health Care   198.73"
      ]
     },
     "execution_count": 3,
     "metadata": {},
     "output_type": "execute_result"
    }
   ],
   "source": [
    "data_companies.head()"
   ]
  },
  {
   "cell_type": "code",
   "execution_count": 4,
   "metadata": {},
   "outputs": [
    {
     "data": {
      "text/html": [
       "<div>\n",
       "<style scoped>\n",
       "    .dataframe tbody tr th:only-of-type {\n",
       "        vertical-align: middle;\n",
       "    }\n",
       "\n",
       "    .dataframe tbody tr th {\n",
       "        vertical-align: top;\n",
       "    }\n",
       "\n",
       "    .dataframe thead th {\n",
       "        text-align: right;\n",
       "    }\n",
       "</style>\n",
       "<table border=\"1\" class=\"dataframe\">\n",
       "  <thead>\n",
       "    <tr style=\"text-align: right;\">\n",
       "      <th></th>\n",
       "      <th>id</th>\n",
       "      <th>Symbol</th>\n",
       "      <th>PriceEarnings</th>\n",
       "      <th>DividendYield</th>\n",
       "      <th>EarningsShare</th>\n",
       "      <th>X52WeekLow</th>\n",
       "      <th>X52WeekHigh</th>\n",
       "      <th>MarketCap</th>\n",
       "      <th>EBITDA</th>\n",
       "    </tr>\n",
       "  </thead>\n",
       "  <tbody>\n",
       "    <tr>\n",
       "      <th>0</th>\n",
       "      <td>1</td>\n",
       "      <td>ABT</td>\n",
       "      <td>22.51</td>\n",
       "      <td>1.908982</td>\n",
       "      <td>0.26</td>\n",
       "      <td>64.60</td>\n",
       "      <td>42.2800</td>\n",
       "      <td>1.021210e+11</td>\n",
       "      <td>5.744000e+09</td>\n",
       "    </tr>\n",
       "    <tr>\n",
       "      <th>1</th>\n",
       "      <td>2</td>\n",
       "      <td>ALGN</td>\n",
       "      <td>56.59</td>\n",
       "      <td>0.000000</td>\n",
       "      <td>2.84</td>\n",
       "      <td>287.32</td>\n",
       "      <td>92.6100</td>\n",
       "      <td>1.878804e+10</td>\n",
       "      <td>3.803260e+08</td>\n",
       "    </tr>\n",
       "    <tr>\n",
       "      <th>2</th>\n",
       "      <td>3</td>\n",
       "      <td>AMZN</td>\n",
       "      <td>296.16</td>\n",
       "      <td>0.000000</td>\n",
       "      <td>6.16</td>\n",
       "      <td>1498.00</td>\n",
       "      <td>812.5000</td>\n",
       "      <td>6.858734e+11</td>\n",
       "      <td>1.613200e+10</td>\n",
       "    </tr>\n",
       "    <tr>\n",
       "      <th>3</th>\n",
       "      <td>4</td>\n",
       "      <td>ILMN</td>\n",
       "      <td>52.25</td>\n",
       "      <td>0.000000</td>\n",
       "      <td>4.92</td>\n",
       "      <td>248.97</td>\n",
       "      <td>158.0203</td>\n",
       "      <td>3.229520e+10</td>\n",
       "      <td>1.192000e+09</td>\n",
       "    </tr>\n",
       "    <tr>\n",
       "      <th>4</th>\n",
       "      <td>5</td>\n",
       "      <td>TMO</td>\n",
       "      <td>21.84</td>\n",
       "      <td>0.327632</td>\n",
       "      <td>5.60</td>\n",
       "      <td>226.44</td>\n",
       "      <td>151.6900</td>\n",
       "      <td>8.322659e+10</td>\n",
       "      <td>4.751300e+09</td>\n",
       "    </tr>\n",
       "  </tbody>\n",
       "</table>\n",
       "</div>"
      ],
      "text/plain": [
       "   id Symbol  PriceEarnings  DividendYield  EarningsShare  X52WeekLow  \\\n",
       "0   1    ABT          22.51       1.908982           0.26       64.60   \n",
       "1   2   ALGN          56.59       0.000000           2.84      287.32   \n",
       "2   3   AMZN         296.16       0.000000           6.16     1498.00   \n",
       "3   4   ILMN          52.25       0.000000           4.92      248.97   \n",
       "4   5    TMO          21.84       0.327632           5.60      226.44   \n",
       "\n",
       "   X52WeekHigh     MarketCap        EBITDA  \n",
       "0      42.2800  1.021210e+11  5.744000e+09  \n",
       "1      92.6100  1.878804e+10  3.803260e+08  \n",
       "2     812.5000  6.858734e+11  1.613200e+10  \n",
       "3     158.0203  3.229520e+10  1.192000e+09  \n",
       "4     151.6900  8.322659e+10  4.751300e+09  "
      ]
     },
     "execution_count": 4,
     "metadata": {},
     "output_type": "execute_result"
    }
   ],
   "source": [
    "data_financial_metrics.head()"
   ]
  },
  {
   "cell_type": "markdown",
   "metadata": {},
   "source": [
    "# Создание базы данных"
   ]
  },
  {
   "cell_type": "code",
   "execution_count": 6,
   "metadata": {},
   "outputs": [
    {
     "data": {
      "text/plain": [
       "<sqlite3.Cursor at 0xabe0de0>"
      ]
     },
     "execution_count": 6,
     "metadata": {},
     "output_type": "execute_result"
    }
   ],
   "source": [
    "connection = sqlite3.connect('S&P500.db')\n",
    "connection.execute(\"PRAGMA foreign_keys = ON\")"
   ]
  },
  {
   "cell_type": "markdown",
   "metadata": {},
   "source": [
    "## Создание и загрузка данных в таблицы"
   ]
  },
  {
   "cell_type": "code",
   "execution_count": 7,
   "metadata": {},
   "outputs": [
    {
     "data": {
      "text/plain": [
       "<sqlite3.Cursor at 0x5c3c260>"
      ]
     },
     "execution_count": 7,
     "metadata": {},
     "output_type": "execute_result"
    }
   ],
   "source": [
    "connection.execute('''CREATE TABLE IF NOT EXISTS companies (\n",
    "id INTEGER PRIMARY KEY,\n",
    "Symbol TEXT,\n",
    "Name TEXT,\n",
    "Sector TEXT,\n",
    "Price FLOAT\n",
    ")''')"
   ]
  },
  {
   "cell_type": "code",
   "execution_count": 8,
   "metadata": {},
   "outputs": [
    {
     "data": {
      "text/plain": [
       "<sqlite3.Cursor at 0xabe0d60>"
      ]
     },
     "execution_count": 8,
     "metadata": {},
     "output_type": "execute_result"
    }
   ],
   "source": [
    "connection.execute('''CREATE TABLE IF NOT EXISTS financial_metrics (\n",
    "id INTEGER PRIMARY KEY,\n",
    "Symbol TEXT,\n",
    "PriceEarnings FLOAT,\n",
    "DividendYield FLOAT,\n",
    "EarningsShare FLOAT,\n",
    "X52WeekLow FLOAT,\n",
    "X52WeekHigh FLOAT,\n",
    "MarketCap FLOAT,\n",
    "EBITDA FLOAT,\n",
    "FOREIGN KEY (id) REFERENCES companies(id)\n",
    "ON UPDATE CASCADE\n",
    "ON DELETE CASCADE\n",
    ")''')"
   ]
  },
  {
   "cell_type": "code",
   "execution_count": 9,
   "metadata": {},
   "outputs": [
    {
     "data": {
      "text/html": [
       "<div>\n",
       "<style scoped>\n",
       "    .dataframe tbody tr th:only-of-type {\n",
       "        vertical-align: middle;\n",
       "    }\n",
       "\n",
       "    .dataframe tbody tr th {\n",
       "        vertical-align: top;\n",
       "    }\n",
       "\n",
       "    .dataframe thead th {\n",
       "        text-align: right;\n",
       "    }\n",
       "</style>\n",
       "<table border=\"1\" class=\"dataframe\">\n",
       "  <thead>\n",
       "    <tr style=\"text-align: right;\">\n",
       "      <th></th>\n",
       "      <th>id</th>\n",
       "      <th>Symbol</th>\n",
       "      <th>PriceEarnings</th>\n",
       "      <th>DividendYield</th>\n",
       "      <th>EarningsShare</th>\n",
       "      <th>X52WeekLow</th>\n",
       "      <th>X52WeekHigh</th>\n",
       "      <th>MarketCap</th>\n",
       "      <th>EBITDA</th>\n",
       "    </tr>\n",
       "  </thead>\n",
       "  <tbody>\n",
       "  </tbody>\n",
       "</table>\n",
       "</div>"
      ],
      "text/plain": [
       "Empty DataFrame\n",
       "Columns: [id, Symbol, PriceEarnings, DividendYield, EarningsShare, X52WeekLow, X52WeekHigh, MarketCap, EBITDA]\n",
       "Index: []"
      ]
     },
     "execution_count": 9,
     "metadata": {},
     "output_type": "execute_result"
    }
   ],
   "source": [
    "df = pd.read_sql_query(\"SELECT * FROM financial_metrics\", connection)\n",
    "df.head()"
   ]
  },
  {
   "cell_type": "code",
   "execution_count": 10,
   "metadata": {},
   "outputs": [],
   "source": [
    "# Загрузка данных\n",
    "data_companies.to_sql('companies', connection, if_exists='append', index=False)\n",
    "data_financial_metrics.to_sql('financial_metrics', connection, if_exists='append', index=False)"
   ]
  },
  {
   "cell_type": "markdown",
   "metadata": {},
   "source": [
    "# Команды: UPDATE, DELETE И CASCADE"
   ]
  },
  {
   "cell_type": "markdown",
   "metadata": {},
   "source": [
    "### UPDATE"
   ]
  },
  {
   "cell_type": "code",
   "execution_count": 11,
   "metadata": {},
   "outputs": [
    {
     "data": {
      "text/plain": [
       "(1, 'ABT', 'Abbott Laboratories', 'Health Care', 60.0)"
      ]
     },
     "execution_count": 11,
     "metadata": {},
     "output_type": "execute_result"
    }
   ],
   "source": [
    "connection.execute('UPDATE companies SET Price=60 WHERE Symbol=\"ABT\"')\n",
    "connection.execute('SELECT * FROM companies WHERE Symbol=\"ABT\" ').fetchone()"
   ]
  },
  {
   "cell_type": "markdown",
   "metadata": {},
   "source": [
    "### DELETE"
   ]
  },
  {
   "cell_type": "code",
   "execution_count": 12,
   "metadata": {},
   "outputs": [
    {
     "data": {
      "text/plain": [
       "[(1, 'ABT', 'Abbott Laboratories', 'Health Care', 60.0),\n",
       " (2, 'ALGN', 'Align Technology', 'Health Care', 220.71),\n",
       " (3, 'AMZN', 'Amazon.com Inc', 'Consumer Discretionary', 1350.5),\n",
       " (4, 'ILMN', 'Illumina Inc', 'Health Care', 209.54),\n",
       " (5, 'TMO', 'Thermo Fisher Scientific', 'Health Care', 198.73)]"
      ]
     },
     "execution_count": 12,
     "metadata": {},
     "output_type": "execute_result"
    }
   ],
   "source": [
    "connection.execute('SELECT * FROM companies').fetchmany(5)"
   ]
  },
  {
   "cell_type": "code",
   "execution_count": 13,
   "metadata": {},
   "outputs": [
    {
     "data": {
      "text/plain": [
       "[]"
      ]
     },
     "execution_count": 13,
     "metadata": {},
     "output_type": "execute_result"
    }
   ],
   "source": [
    "connection.execute('DELETE FROM companies WHERE Price < 100')\n",
    "connection.execute('SELECT * FROM companies WHERE Price < 100 ').fetchmany(5)"
   ]
  },
  {
   "cell_type": "markdown",
   "metadata": {},
   "source": [
    "### CASCADE"
   ]
  },
  {
   "cell_type": "code",
   "execution_count": 14,
   "metadata": {},
   "outputs": [
    {
     "data": {
      "text/plain": [
       "[(5, 'TMO', 'Thermo Fisher Scientific', 'Health Care', 198.73),\n",
       " (6, 'V', 'Visa Inc.', 'Information Technology', 113.86),\n",
       " (7, 'AON', 'Aon plc', 'Financials', 136.05),\n",
       " (11, 'BLK', 'BlackRock', 'Financials', 509.38),\n",
       " (17, 'MCK', 'McKesson Corp.', 'Health Care', 150.23)]"
      ]
     },
     "execution_count": 14,
     "metadata": {},
     "output_type": "execute_result"
    }
   ],
   "source": [
    "connection.execute('DELETE from companies WHERE id < 5')\n",
    "connection.execute('SELECT * FROM companies''').fetchmany(5)"
   ]
  },
  {
   "cell_type": "code",
   "execution_count": 15,
   "metadata": {},
   "outputs": [
    {
     "data": {
      "text/plain": [
       "[(5,\n",
       "  'TMO',\n",
       "  21.84,\n",
       "  0.32763190000000003,\n",
       "  5.6,\n",
       "  226.44,\n",
       "  151.69,\n",
       "  83226586345.0,\n",
       "  4751300000.0),\n",
       " (6,\n",
       "  'V',\n",
       "  32.72,\n",
       "  0.70204765,\n",
       "  2.8,\n",
       "  126.88,\n",
       "  84.88,\n",
       "  270038723213.0,\n",
       "  13086000000.0),\n",
       " (7,\n",
       "  'AON',\n",
       "  20.8,\n",
       "  1.0245464,\n",
       "  4.66,\n",
       "  152.78,\n",
       "  113.2201,\n",
       "  35123123422.0,\n",
       "  1858000000.0),\n",
       " (11,\n",
       "  'BLK',\n",
       "  22.49,\n",
       "  2.1643557999999996,\n",
       "  30.3,\n",
       "  594.52,\n",
       "  368.0,\n",
       "  85907759858.0,\n",
       "  5684000000.0),\n",
       " (17,\n",
       "  'MCK',\n",
       "  11.68,\n",
       "  0.8898775999999999,\n",
       "  22.74,\n",
       "  178.86,\n",
       "  133.82,\n",
       "  31534840262.0,\n",
       "  7232000000.0),\n",
       " (18,\n",
       "  'AGN',\n",
       "  10.65,\n",
       "  1.643289,\n",
       "  38.35,\n",
       "  256.8,\n",
       "  160.07,\n",
       "  56668833898.0,\n",
       "  -2888100000.0),\n",
       " (19, 'NFLX', 200.08, 0.0, 1.25, 286.81, 138.26, 114805404842.0, 809028000.0),\n",
       " (22,\n",
       "  'ECL',\n",
       "  28.08,\n",
       "  1.2319711000000002,\n",
       "  4.14,\n",
       "  140.5,\n",
       "  119.61,\n",
       "  38460272282.0,\n",
       "  2848600000.0),\n",
       " (23, 'CI', 18.11, 0.020466639, 7.2, 227.13, 141.93, 47680910480.0, 0.0),\n",
       " (24, 'ARE', 19.03, 3.0262272, 1.57, 134.37, 106.89, 12043374429.0, 0.0),\n",
       " (26,\n",
       "  'PPG',\n",
       "  18.73,\n",
       "  1.5771488999999999,\n",
       "  6.31,\n",
       "  122.0697,\n",
       "  99.57,\n",
       "  29043337549.0,\n",
       "  2585000000.0),\n",
       " (27,\n",
       "  'PXD',\n",
       "  118.29,\n",
       "  0.1816118,\n",
       "  -3.39,\n",
       "  199.83,\n",
       "  125.46,\n",
       "  29983119693.0,\n",
       "  1717000000.0),\n",
       " (29,\n",
       "  'MLM',\n",
       "  30.38,\n",
       "  0.8042038,\n",
       "  6.63,\n",
       "  244.32,\n",
       "  191.09,\n",
       "  13756812736.0,\n",
       "  975223000.0),\n",
       " (32,\n",
       "  'SWK',\n",
       "  20.57,\n",
       "  1.5775635000000001,\n",
       "  8.05,\n",
       "  176.62,\n",
       "  121.09,\n",
       "  24496399600.0,\n",
       "  2264600000.0),\n",
       " (35,\n",
       "  'ACN',\n",
       "  25.47,\n",
       "  1.7144699,\n",
       "  5.44,\n",
       "  162.6,\n",
       "  114.82,\n",
       "  98765855553.0,\n",
       "  5643228000.0),\n",
       " (40,\n",
       "  'JBHT',\n",
       "  30.62,\n",
       "  0.8139042,\n",
       "  6.19,\n",
       "  126.49,\n",
       "  83.35,\n",
       "  12945366350.0,\n",
       "  1007309000.0),\n",
       " (41, 'MHK', 19.08, 0.0, 12.48, 286.85, 209.9, 19897356456.0, 1750393000.0),\n",
       " (43,\n",
       "  'WLTW',\n",
       "  18.67,\n",
       "  1.347058,\n",
       "  3.07,\n",
       "  165.0,\n",
       "  120.869,\n",
       "  20780269334.0,\n",
       "  1440000000.0),\n",
       " (45,\n",
       "  'MA',\n",
       "  34.99,\n",
       "  0.5926628,\n",
       "  3.65,\n",
       "  177.11,\n",
       "  105.8,\n",
       "  187102014193.0,\n",
       "  7113000000.0),\n",
       " (46, 'COL', 22.29, 0.9748892, 4.8, 139.63, 89.9, 22197870556.0, 1696000000.0),\n",
       " (48, 'VAR', 29.93, 0.0, 2.69, 130.29, 77.73, 10692681720.0, 500600000.0),\n",
       " (49,\n",
       "  'CMI',\n",
       "  16.83,\n",
       "  2.5008682999999996,\n",
       "  8.23,\n",
       "  194.18,\n",
       "  143.8301,\n",
       "  28669230787.0,\n",
       "  2924000000.0)]"
      ]
     },
     "execution_count": 15,
     "metadata": {},
     "output_type": "execute_result"
    }
   ],
   "source": [
    "connection.execute('SELECT * FROM financial_metrics''').fetchall()"
   ]
  }
 ],
 "metadata": {
  "kernelspec": {
   "display_name": "Python 3",
   "language": "python",
   "name": "python3"
  },
  "language_info": {
   "codemirror_mode": {
    "name": "ipython",
    "version": 3
   },
   "file_extension": ".py",
   "mimetype": "text/x-python",
   "name": "python",
   "nbconvert_exporter": "python",
   "pygments_lexer": "ipython3",
   "version": "3.7.0"
  }
 },
 "nbformat": 4,
 "nbformat_minor": 4
}
